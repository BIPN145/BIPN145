{
 "cells": [
  {
   "cell_type": "markdown",
   "id": "9695f80e",
   "metadata": {},
   "source": [
    "# Plot Dot Plot\n",
    "\n",
    "This notebook will help you generate \"Prism-style\" dot plots in Python, inspect the distribution of your data and run two-sample statistics.\n",
    "<hr>"
   ]
  },
  {
   "cell_type": "markdown",
   "id": "b708ee39",
   "metadata": {},
   "source": [
    "## Setup\n",
    "First, we need to install a working version of Pandas. Run the cell below. You may need to restart the kernel after running it."
   ]
  },
  {
   "cell_type": "code",
   "execution_count": null,
   "id": "d204caf8",
   "metadata": {},
   "outputs": [],
   "source": [
    "%pip install -U pandas==1.5.3"
   ]
  },
  {
   "cell_type": "markdown",
   "id": "98bd8fba",
   "metadata": {},
   "source": [
    "## Import Data\n",
    "\n",
    "> **Task**: \n",
    "> 1. Change `data_1` and `data_2` to be your two group of data. *Make sure you leave these as lists, with brackets on each end, and each data point separated by a comma.*\n",
    "> 2. *Optional*: Rename `Condition_1` and `Condition_2`. *Make sure you keep these in single quotes, so Python recognizes them as a string!*"
   ]
  },
  {
   "cell_type": "code",
   "execution_count": null,
   "id": "b6becc60",
   "metadata": {},
   "outputs": [],
   "source": [
    "# Option 1: Import a CSV file as a Pandas dataframe\n",
    "import pandas as pd\n",
    "#filename = ...\n",
    "#data = pd.read_csv(filename)\n",
    "\n",
    "# Option 2: Import your data as two lists and generate a dataframe from it\n",
    "data_1 = [1,3,3,2,1,2,4,2,5]\n",
    "data_2 = [3,4,5,3,2,6,7,8,3]\n",
    "data = pd.DataFrame(data={'Condition_1':data_1,'Condition_2':data_2})\n",
    "data"
   ]
  },
  {
   "cell_type": "markdown",
   "id": "c2c81a8d",
   "metadata": {},
   "source": [
    "## Plot Data\n",
    "Below, we'll use a seaborn plotting function called [swarmplot](https://seaborn.pydata.org/generated/seaborn.swarmplot.html) to plot each of our data points. \n",
    "\n",
    "### Notes \n",
    "* This will draw a <font color='gray'>**dotted gray**</font> line for the median, and a **solid black line** for the mean. \n",
    "* Change the `plt.ylabel` line to add your own label."
   ]
  },
  {
   "cell_type": "code",
   "execution_count": null,
   "id": "eeb3090c",
   "metadata": {},
   "outputs": [],
   "source": [
    "# Import needed packages\n",
    "import seaborn as sns\n",
    "import matplotlib.pyplot as plt\n",
    "%matplotlib inline \n",
    "%config InlineBackend.figure_format = 'retina'\n",
    "\n",
    "# Set up the plot\n",
    "fig,ax = plt.subplots(1,1,figsize=(4,4))\n",
    "\n",
    "# plot the mean line\n",
    "sns.boxplot(data=data, showmeans=True,meanline=True,\n",
    "            meanprops={'color': 'gray', 'ls': '--', 'lw': 2},\n",
    "            medianprops={'visible': True,'color': 'black', 'ls': '-', 'lw': 2},\n",
    "            whiskerprops={'visible': False},\n",
    "            showfliers=False,showbox=False,showcaps=False)\n",
    "\n",
    "# plot individual data points\n",
    "sns.swarmplot(data=data,s=8)\n",
    "\n",
    "plt.ylabel('Thing we\\'re measuring')\n",
    "\n",
    "# Make the axes look nice!\n",
    "ax.spines[['right', 'top']].set_visible(False)\n",
    "\n",
    "plt.show()"
   ]
  },
  {
   "cell_type": "markdown",
   "id": "73046e36",
   "metadata": {},
   "source": [
    "## Check to see how skewed the data is\n",
    "\n",
    "Before we run any hypoothesis tests, we need to know if our data is skewed or not. To test for skewness, we can use [`stats.skewtest`](https://docs.scipy.org/doc/scipy/reference/generated/scipy.stats.skewtest.html#scipy.stats.skewtest) to test. This method implements the <a href=\"https://www.jstor.org/stable/2684359?seq=1\">D'Agostino-Pearson skewness test</a>, one of many different tests (e.g., the Kolmogorov-Smirov test) that can be used to check the normality of a distribution. **If the skew test gives us a p-value of less than 0.05, the population is skewed.**\n",
    "\n",
    ">**Task**: Run the cell below, but then change the `sample` to `data_2` to test your second group of data points."
   ]
  },
  {
   "cell_type": "code",
   "execution_count": null,
   "id": "68ef3272",
   "metadata": {},
   "outputs": [],
   "source": [
    "from scipy import stats\n",
    "\n",
    "sample = data_1 # Choose which data to use\n",
    "\n",
    "stat,pvalue = stats.skewtest(sample) # Run the skew test\n",
    "\n",
    "# Print the p value of the skew test up to 30 decimal points\n",
    "print('The skewtest p-value is ' + '%.30f' % pvalue) \n",
    "\n",
    "plt.hist(sample) # Create a histogram\n",
    "plt.ylabel('Observations')\n",
    "plt.xlabel('Thing we\\'re measuring')\n",
    "plt.show()"
   ]
  },
  {
   "cell_type": "markdown",
   "id": "2e41de5a",
   "metadata": {},
   "source": [
    "## Run one-sample statistics (earthworm data)\n",
    "\n",
    "### *Inferential statistics* generalize from observed data to the world at large\n",
    "Most often, the goal of our hypothesis testing is to test whether or not two distributions are different, or if a distribution has a different mean than the underlying population distribution.\n",
    "\n",
    "The code below will run a one sample t-test where individual samples are not being subtracted from each other. It will also calculate Cohen's *d*."
   ]
  },
  {
   "cell_type": "code",
   "execution_count": null,
   "id": "89a98df3",
   "metadata": {},
   "outputs": [],
   "source": [
    "import numpy as np\n",
    "\n",
    "#get degrees of freedom and n\n",
    "n1=len(data['Condition_1'])\n",
    "n2=len(data['Condition_2'])\n",
    "df=(n1)-1 #number of logically independent values\n",
    "\n",
    "#get group1-group2 average \n",
    "avgdif=(np.mean(data['Condition_1'])-np.mean(data['Condition_2']))\n",
    "\n",
    "# get combine stdev\n",
    "var1=np.var(data['Condition_1'])\n",
    "var2=np.var(data['Condition_2'])\n",
    "covar=(np.cov(data['Condition_1'],data['Condition_2']))\n",
    "stdev=np.sqrt((var1+var2)-(2*covar[0,1]))\n",
    "std_error=stdev/np.sqrt(n1+n2)\n",
    "print(var1)\n",
    "print(var2)\n",
    "\n",
    "t = abs(avgdif - 0) / std_error # get t statistic\n",
    "p = 2*(1-stats.t.cdf(t,df)) # get two-tailed p value\n",
    "print(p)\n",
    "\n",
    "#If Variances are = or similar\n",
    "#s = np.sqrt((((n1 - 1)*var1) + (((n2 - 1))*var2)) / (n1 + n2 - 2))\n",
    "#cohen_d=avgdif/s\n",
    "\n",
    "#If Variances are different\n",
    "s=np.sqrt((var1/n1) + (var2/n2))\n",
    "cohen_d=avgdif/s\n",
    "print(cohen_d)"
   ]
  },
  {
   "cell_type": "markdown",
   "id": "38e616cb",
   "metadata": {},
   "source": [
    "## Run two-sample statistics\n",
    "\n",
    "\n",
    "The SciPy stats package has [many hypothesis testing tools](https://docs.scipy.org/doc/scipy/reference/stats.html) (see Statistical Tests). In most cases, we'd like to test whether two or more distributions are different from eachother.\n",
    "\n",
    "If we know our distributions are normal (they're generated from a normal distribution!) we can use **parametric statistics** to test our hypothesis. To test for differences between normal populations, we can use the independent t-test in our stats package: `stats.ttest_ind()`. If we had paired samples, we would use a dependent t-test [as seen here](https://docs.scipy.org/doc/scipy/reference/generated/scipy.stats.ttest_rel.html#scipy.stats.ttest_rel).\n",
    "\n",
    "If one of our populations is skewed, however, we **cannot use a t-test**. A t-test assumes that the populations are normally distributed. For skewed populations, we can use either the [Mann-Whitney U](https://docs.scipy.org/doc/scipy/reference/generated/scipy.stats.mannwhitneyu.html#scipy.stats.mannwhitneyu) (for independent samples, `stats.mannwhitneyu()`) or the [Wilcoxon Signed Rank Test](https://docs.scipy.org/doc/scipy/reference/generated/scipy.stats.wilcoxon.html#scipy.stats.wilcoxon) (for dependent/paired samples,`stats.wilcoxon()`).\n",
    "\n",
    "Below, there is sample code to run three different statistical tests. You should uncomment (remove the #) from the one that is most appropriate for your data. "
   ]
  },
  {
   "cell_type": "code",
   "execution_count": null,
   "id": "80e78e69",
   "metadata": {},
   "outputs": [],
   "source": [
    "#print(stats.ttest_ind(data_1,data_2)) # to run an independent t-test\n",
    "#print(stats.mannwhitneyu(data_1,_2)) # to run a mannwhitneyu\n",
    "#print(stats.wilcoxon(data_1,data_2)) # to run a wilcoxon signed rank test"
   ]
  }
 ],
 "metadata": {
  "kernelspec": {
   "display_name": "Python 3",
   "language": "python",
   "name": "python3"
  },
  "language_info": {
   "codemirror_mode": {
    "name": "ipython",
    "version": 3
   },
   "file_extension": ".py",
   "mimetype": "text/x-python",
   "name": "python",
   "nbconvert_exporter": "python",
   "pygments_lexer": "ipython3",
   "version": "3.7.3"
  }
 },
 "nbformat": 4,
 "nbformat_minor": 5
}
