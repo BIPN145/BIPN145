{
 "cells": [
  {
   "cell_type": "markdown",
   "id": "3ca35305",
   "metadata": {},
   "source": [
    "## Fit a curved line\n",
    "Alternatively, we can perform a Least Squares Regression to fit to a Curve. To do so, we'll use `scipy.optimize.curve_fit()`. [[Documentation](https://docs.scipy.org/doc/scipy/reference/generated/scipy.optimize.curve_fit.html)]"
   ]
  },
  {
   "cell_type": "code",
   "execution_count": null,
   "id": "5ed7b96f",
   "metadata": {},
   "outputs": [],
   "source": [
    "# 1 - Import packages\n",
    "import numpy as np\n",
    "from scipy import stats\n",
    "from scipy.optimize import curve_fit\n",
    "\n",
    "# 2 - Convert x and y to numpy arrays\n",
    "x_array = np.array(x)\n",
    "y_array = np.array(y)\n",
    "\n",
    "# 3 - Define a curve function\n",
    "def func(x, a, b):\n",
    "    #return (a*x)+b #linear function\n",
    "    #return np.exp(np.log(a)+(x*np.log(b))) #exponential function y=a*(b^x)\n",
    "    #return np.exp(np.log(a)+(b*np.log(x))) #power function y=a*(x^b)\n",
    "    return a+((a*b)/x) #hyperbolic function\n",
    "\n",
    "# 4 - Fit the curve!\n",
    "popt, pcov = curve_fit(func,x_array,y_array)\n",
    "\n",
    "# 5 - Plot a regression line, using the slope & intercept\n",
    "plt.plot(x_array, func(x_array, *popt), 'r-')\n",
    "\n",
    "#To get the r squared and S_value use this code\n",
    "residuals = y_array- func(x_array, *popt)\n",
    "ss_res = np.sum(residuals**2)\n",
    "ss_tot = np.sum((y_array-np.mean(y_array))**2)\n",
    "r_squared = 1 - (ss_res / ss_tot)\n",
    "\n",
    "perr = np.sqrt(np.diag(pcov))\n",
    "S_value=(perr[0]+perr[1])/2\n",
    "print(r_squared)\n",
    "print(S_value)\n",
    "\n",
    "#To get the equation for the curve (example for Hyperbolic function)\n",
    "a = popt[0]\n",
    "b = popt[1]\n",
    "\n",
    "#label = 'Y=' + str(round(a,2)) + \"*x^\" + str(round(b,2)) #Power function\n",
    "label = 'Y=' + str(round(a,2)) + '+' + str(round(a,2)) + '*' + str(round(b,2))  + '/x' \n",
    "print(str(a) + ' <-- This is your Rheobase in the hyperbolic function')\n",
    "print(str(b) + ' <-- This is your Chronaxie in the hyperbolic function')\n",
    "print(label)"
   ]
  }
 ],
 "metadata": {
  "kernelspec": {
   "display_name": "Python 3",
   "language": "python",
   "name": "python3"
  },
  "language_info": {
   "codemirror_mode": {
    "name": "ipython",
    "version": 3
   },
   "file_extension": ".py",
   "mimetype": "text/x-python",
   "name": "python",
   "nbconvert_exporter": "python",
   "pygments_lexer": "ipython3",
   "version": "3.7.3"
  }
 },
 "nbformat": 4,
 "nbformat_minor": 5
}
